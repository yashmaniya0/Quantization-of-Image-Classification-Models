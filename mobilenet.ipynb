{
 "cells": [
  {
   "cell_type": "code",
   "execution_count": 12,
   "metadata": {},
   "outputs": [],
   "source": [
    "import numpy as np\n",
    "import pandas as pd\n",
    "import matplotlib.pyplot as plt\n",
    "import tensorflow as tf\n",
    "from tqdm import tqdm\n",
    "from tensorflow import keras\n",
    "from tensorflow.keras import layers\n",
    "import tensorflow_model_optimization as tfmot\n",
    "from tensorflow.keras.layers import Input, Dense, Dropout\n",
    "from tensorflow.keras.models import Model\n",
    "from tensorflow.keras.applications.mobilenet import MobileNet\n",
    "from tensorflow.keras.callbacks import LearningRateScheduler\n",
    "from tensorflow.keras.optimizers import Adam\n",
    "from tensorflow_model_optimization.python.core.quantization.keras.quantize_wrapper import QuantizeWrapper\n",
    "\n",
    "\n",
    "import tempfile\n",
    "import os\n",
    "\n"
   ]
  },
  {
   "cell_type": "code",
   "execution_count": 4,
   "metadata": {},
   "outputs": [],
   "source": [
    "\n",
    "# Load the data\n",
    "(x_train, y_train), (x_test, y_test) = keras.datasets.fashion_mnist.load_data()\n",
    "\n",
    "# Reshape the data to 32x32x3 and normalize it\n",
    "x_train = tf.image.grayscale_to_rgb(tf.expand_dims(x_train, axis=-1))\n",
    "x_train = tf.image.resize(x_train, (32, 32))\n",
    "x_train = x_train / 255.0\n",
    "x_test = tf.image.grayscale_to_rgb(tf.expand_dims(x_test, axis=-1))\n",
    "x_test = tf.image.resize(x_test, (32, 32))\n",
    "x_test = x_test / 255.0\n"
   ]
  },
  {
   "cell_type": "code",
   "execution_count": 5,
   "metadata": {},
   "outputs": [],
   "source": [
    "(train_images_rgb, train_labels), (test_images_rgb, test_labels) = (x_train, y_train), (x_test, y_test)\n",
    "train_labels = keras.utils.to_categorical(train_labels, 10)\n",
    "test_labels = keras.utils.to_categorical(test_labels, 10)"
   ]
  },
  {
   "cell_type": "code",
   "execution_count": 6,
   "metadata": {},
   "outputs": [],
   "source": [
    "\n",
    "# Define MobileNet model\n",
    "inputs = Input(shape=(32, 32, 3))\n",
    "base_model = MobileNet(input_tensor=inputs, include_top=False, weights=None, pooling='avg')\n",
    "mid = Dense(128, activation='relu')(base_model.output)\n",
    "x = Dropout(0.25)(mid)\n",
    "outputs = Dense(10, activation='softmax')(x)\n",
    "model = Model(inputs, outputs)\n",
    "\n",
    "# Train the model\n",
    "model.compile(optimizer=Adam(learning_rate=0.001), loss='categorical_crossentropy', metrics=['accuracy'])\n",
    "\n"
   ]
  },
  {
   "cell_type": "code",
   "execution_count": 7,
   "metadata": {},
   "outputs": [
    {
     "name": "stdout",
     "output_type": "stream",
     "text": [
      "1500/1500 [==============================] - 283s 187ms/step - loss: 0.7925 - accuracy: 0.7222 - val_loss: 0.4845 - val_accuracy: 0.8287\n"
     ]
    },
    {
     "data": {
      "text/plain": [
       "<keras.callbacks.History at 0x2400347ba00>"
      ]
     },
     "execution_count": 7,
     "metadata": {},
     "output_type": "execute_result"
    }
   ],
   "source": [
    "\n",
    "# Fit the model with the learning rate scheduler\n",
    "model.fit(train_images_rgb, train_labels, epochs=1, validation_split = 0.2)\n"
   ]
  },
  {
   "cell_type": "code",
   "execution_count": 8,
   "metadata": {},
   "outputs": [
    {
     "name": "stdout",
     "output_type": "stream",
     "text": [
      "Test loss: 0.5009627938270569\n",
      "Test accuracy: 0.8273000121116638\n"
     ]
    }
   ],
   "source": [
    "# Evaluate the model\n",
    "score = model.evaluate(test_images_rgb, test_labels, verbose=0)\n",
    "print('Test loss:', score[0])\n",
    "print('Test accuracy:', score[1])\n"
   ]
  },
  {
   "cell_type": "code",
   "execution_count": 9,
   "metadata": {},
   "outputs": [],
   "source": [
    "LastValueQuantizer = tfmot.quantization.keras.quantizers.LastValueQuantizer\n",
    "MovingAverageQuantizer = tfmot.quantization.keras.quantizers.MovingAverageQuantizer\n",
    "\n",
    "\n",
    "class DefaultDenseQuantizeConfig(tfmot.quantization.keras.QuantizeConfig):\n",
    "    # Configure how to quantize weights.\n",
    "    def get_weights_and_quantizers(self, layer):\n",
    "        return [(layer.kernel, LastValueQuantizer(num_bits=8, symmetric=True, narrow_range=False, per_axis=False))]\n",
    "\n",
    "    # Configure how to quantize activations.\n",
    "    def get_activations_and_quantizers(self, layer):\n",
    "        return [(layer.activation, MovingAverageQuantizer(num_bits=8, symmetric=False, narrow_range=False, per_axis=False))]\n",
    "\n",
    "    def set_quantize_weights(self, layer, quantize_weights):\n",
    "        # Add this line for each item returned in `get_weights_and_quantizers`\n",
    "        # , in the same order\n",
    "        layer.kernel = quantize_weights[0]\n",
    "\n",
    "    def set_quantize_activations(self, layer, quantize_activations):\n",
    "        # Add this line for each item returned in `get_activations_and_quantizers`\n",
    "        # , in the same order.\n",
    "        layer.activation = quantize_activations[0]\n",
    "\n",
    "    # Configure how to quantize outputs (may be equivalent to activations).\n",
    "    def get_output_quantizers(self, layer):\n",
    "        return []\n",
    "\n",
    "    def get_config(self):\n",
    "        return {}\n"
   ]
  },
  {
   "cell_type": "code",
   "execution_count": 20,
   "metadata": {},
   "outputs": [
    {
     "name": "stderr",
     "output_type": "stream",
     "text": [
      "100%|██████████| 7/7 [45:49<00:00, 392.81s/it]"
     ]
    },
    {
     "name": "stdout",
     "output_type": "stream",
     "text": [
      "Model: \"model_10\"\n",
      "_________________________________________________________________\n",
      " Layer (type)                Output Shape              Param #   \n",
      "=================================================================\n",
      " input_11 (InputLayer)       [(None, 32, 32, 3)]       0         \n",
      "                                                                 \n",
      " quantize_layer_9 (QuantizeL  (None, 32, 32, 3)        3         \n",
      " ayer)                                                           \n",
      "                                                                 \n",
      " quant_conv1 (QuantizeWrappe  (None, 16, 16, 32)       929       \n",
      " rV2)                                                            \n",
      "                                                                 \n",
      " quant_conv1_bn (QuantizeWra  (None, 16, 16, 32)       129       \n",
      " pperV2)                                                         \n",
      "                                                                 \n",
      " quant_conv1_relu (QuantizeW  (None, 16, 16, 32)       3         \n",
      " rapperV2)                                                       \n",
      "                                                                 \n",
      " quant_conv_dw_1 (QuantizeWr  (None, 16, 16, 32)       291       \n",
      " apperV2)                                                        \n",
      "                                                                 \n",
      " quant_conv_dw_1_bn (Quantiz  (None, 16, 16, 32)       129       \n",
      " eWrapperV2)                                                     \n",
      "                                                                 \n",
      " quant_conv_dw_1_relu (Quant  (None, 16, 16, 32)       3         \n",
      " izeWrapperV2)                                                   \n",
      "                                                                 \n",
      " quant_conv_pw_1 (QuantizeWr  (None, 16, 16, 64)       2177      \n",
      " apperV2)                                                        \n",
      "                                                                 \n",
      " quant_conv_pw_1_bn (Quantiz  (None, 16, 16, 64)       257       \n",
      " eWrapperV2)                                                     \n",
      "                                                                 \n",
      " quant_conv_pw_1_relu (Quant  (None, 16, 16, 64)       3         \n",
      " izeWrapperV2)                                                   \n",
      "                                                                 \n",
      " quant_conv_pad_2 (QuantizeW  (None, 17, 17, 64)       1         \n",
      " rapperV2)                                                       \n",
      "                                                                 \n",
      " quant_conv_dw_2 (QuantizeWr  (None, 8, 8, 64)         579       \n",
      " apperV2)                                                        \n",
      "                                                                 \n",
      " quant_conv_dw_2_bn (Quantiz  (None, 8, 8, 64)         257       \n",
      " eWrapperV2)                                                     \n",
      "                                                                 \n",
      " quant_conv_dw_2_relu (Quant  (None, 8, 8, 64)         3         \n",
      " izeWrapperV2)                                                   \n",
      "                                                                 \n",
      " quant_conv_pw_2 (QuantizeWr  (None, 8, 8, 128)        8449      \n",
      " apperV2)                                                        \n",
      "                                                                 \n",
      " quant_conv_pw_2_bn (Quantiz  (None, 8, 8, 128)        513       \n",
      " eWrapperV2)                                                     \n",
      "                                                                 \n",
      " quant_conv_pw_2_relu (Quant  (None, 8, 8, 128)        3         \n",
      " izeWrapperV2)                                                   \n",
      "                                                                 \n",
      " quant_conv_dw_3 (QuantizeWr  (None, 8, 8, 128)        1155      \n",
      " apperV2)                                                        \n",
      "                                                                 \n",
      " quant_conv_dw_3_bn (Quantiz  (None, 8, 8, 128)        513       \n",
      " eWrapperV2)                                                     \n",
      "                                                                 \n",
      " quant_conv_dw_3_relu (Quant  (None, 8, 8, 128)        3         \n",
      " izeWrapperV2)                                                   \n",
      "                                                                 \n",
      " quant_conv_pw_3 (QuantizeWr  (None, 8, 8, 128)        16641     \n",
      " apperV2)                                                        \n",
      "                                                                 \n",
      " quant_conv_pw_3_bn (Quantiz  (None, 8, 8, 128)        513       \n",
      " eWrapperV2)                                                     \n",
      "                                                                 \n",
      " quant_conv_pw_3_relu (Quant  (None, 8, 8, 128)        3         \n",
      " izeWrapperV2)                                                   \n",
      "                                                                 \n",
      " quant_conv_pad_4 (QuantizeW  (None, 9, 9, 128)        1         \n",
      " rapperV2)                                                       \n",
      "                                                                 \n",
      " quant_conv_dw_4 (QuantizeWr  (None, 4, 4, 128)        1155      \n",
      " apperV2)                                                        \n",
      "                                                                 \n",
      " quant_conv_dw_4_bn (Quantiz  (None, 4, 4, 128)        513       \n",
      " eWrapperV2)                                                     \n",
      "                                                                 \n",
      " quant_conv_dw_4_relu (Quant  (None, 4, 4, 128)        3         \n",
      " izeWrapperV2)                                                   \n",
      "                                                                 \n",
      " quant_conv_pw_4 (QuantizeWr  (None, 4, 4, 256)        33281     \n",
      " apperV2)                                                        \n",
      "                                                                 \n",
      " quant_conv_pw_4_bn (Quantiz  (None, 4, 4, 256)        1025      \n",
      " eWrapperV2)                                                     \n",
      "                                                                 \n",
      " quant_conv_pw_4_relu (Quant  (None, 4, 4, 256)        3         \n",
      " izeWrapperV2)                                                   \n",
      "                                                                 \n",
      " quant_conv_dw_5 (QuantizeWr  (None, 4, 4, 256)        2307      \n",
      " apperV2)                                                        \n",
      "                                                                 \n",
      " quant_conv_dw_5_bn (Quantiz  (None, 4, 4, 256)        1025      \n",
      " eWrapperV2)                                                     \n",
      "                                                                 \n",
      " quant_conv_dw_5_relu (Quant  (None, 4, 4, 256)        3         \n",
      " izeWrapperV2)                                                   \n",
      "                                                                 \n",
      " quant_conv_pw_5 (QuantizeWr  (None, 4, 4, 256)        66049     \n",
      " apperV2)                                                        \n",
      "                                                                 \n",
      " quant_conv_pw_5_bn (Quantiz  (None, 4, 4, 256)        1025      \n",
      " eWrapperV2)                                                     \n",
      "                                                                 \n",
      " quant_conv_pw_5_relu (Quant  (None, 4, 4, 256)        3         \n",
      " izeWrapperV2)                                                   \n",
      "                                                                 \n",
      " quant_conv_pad_6 (QuantizeW  (None, 5, 5, 256)        1         \n",
      " rapperV2)                                                       \n",
      "                                                                 \n",
      " quant_conv_dw_6 (QuantizeWr  (None, 2, 2, 256)        2307      \n",
      " apperV2)                                                        \n",
      "                                                                 \n",
      " quant_conv_dw_6_bn (Quantiz  (None, 2, 2, 256)        1025      \n",
      " eWrapperV2)                                                     \n",
      "                                                                 \n",
      " quant_conv_dw_6_relu (Quant  (None, 2, 2, 256)        3         \n",
      " izeWrapperV2)                                                   \n",
      "                                                                 \n",
      " quant_conv_pw_6 (QuantizeWr  (None, 2, 2, 512)        132097    \n",
      " apperV2)                                                        \n",
      "                                                                 \n",
      " quant_conv_pw_6_bn (Quantiz  (None, 2, 2, 512)        2049      \n",
      " eWrapperV2)                                                     \n",
      "                                                                 \n",
      " quant_conv_pw_6_relu (Quant  (None, 2, 2, 512)        3         \n",
      " izeWrapperV2)                                                   \n",
      "                                                                 \n",
      " quant_conv_dw_7 (QuantizeWr  (None, 2, 2, 512)        4611      \n",
      " apperV2)                                                        \n",
      "                                                                 \n",
      " quant_conv_dw_7_bn (Quantiz  (None, 2, 2, 512)        2049      \n",
      " eWrapperV2)                                                     \n",
      "                                                                 \n",
      " quant_conv_dw_7_relu (Quant  (None, 2, 2, 512)        3         \n",
      " izeWrapperV2)                                                   \n",
      "                                                                 \n",
      " quant_conv_pw_7 (QuantizeWr  (None, 2, 2, 512)        263169    \n",
      " apperV2)                                                        \n",
      "                                                                 \n",
      " quant_conv_pw_7_bn (Quantiz  (None, 2, 2, 512)        2049      \n",
      " eWrapperV2)                                                     \n",
      "                                                                 \n",
      " quant_conv_pw_7_relu (Quant  (None, 2, 2, 512)        3         \n",
      " izeWrapperV2)                                                   \n",
      "                                                                 \n",
      " quant_conv_dw_8 (QuantizeWr  (None, 2, 2, 512)        4611      \n",
      " apperV2)                                                        \n",
      "                                                                 \n",
      " quant_conv_dw_8_bn (Quantiz  (None, 2, 2, 512)        2049      \n",
      " eWrapperV2)                                                     \n",
      "                                                                 \n",
      " quant_conv_dw_8_relu (Quant  (None, 2, 2, 512)        3         \n",
      " izeWrapperV2)                                                   \n",
      "                                                                 \n",
      " quant_conv_pw_8 (QuantizeWr  (None, 2, 2, 512)        263169    \n",
      " apperV2)                                                        \n",
      "                                                                 \n",
      " quant_conv_pw_8_bn (Quantiz  (None, 2, 2, 512)        2049      \n",
      " eWrapperV2)                                                     \n",
      "                                                                 \n",
      " quant_conv_pw_8_relu (Quant  (None, 2, 2, 512)        3         \n",
      " izeWrapperV2)                                                   \n",
      "                                                                 \n",
      " quant_conv_dw_9 (QuantizeWr  (None, 2, 2, 512)        4611      \n",
      " apperV2)                                                        \n",
      "                                                                 \n",
      " quant_conv_dw_9_bn (Quantiz  (None, 2, 2, 512)        2049      \n",
      " eWrapperV2)                                                     \n",
      "                                                                 \n",
      " quant_conv_dw_9_relu (Quant  (None, 2, 2, 512)        3         \n",
      " izeWrapperV2)                                                   \n",
      "                                                                 \n",
      " quant_conv_pw_9 (QuantizeWr  (None, 2, 2, 512)        263169    \n",
      " apperV2)                                                        \n",
      "                                                                 \n",
      " quant_conv_pw_9_bn (Quantiz  (None, 2, 2, 512)        2049      \n",
      " eWrapperV2)                                                     \n",
      "                                                                 \n",
      " quant_conv_pw_9_relu (Quant  (None, 2, 2, 512)        3         \n",
      " izeWrapperV2)                                                   \n",
      "                                                                 \n",
      " quant_conv_dw_10 (QuantizeW  (None, 2, 2, 512)        4611      \n",
      " rapperV2)                                                       \n",
      "                                                                 \n",
      " quant_conv_dw_10_bn (Quanti  (None, 2, 2, 512)        2049      \n",
      " zeWrapperV2)                                                    \n",
      "                                                                 \n",
      " quant_conv_dw_10_relu (Quan  (None, 2, 2, 512)        3         \n",
      " tizeWrapperV2)                                                  \n",
      "                                                                 \n",
      " quant_conv_pw_10 (QuantizeW  (None, 2, 2, 512)        263169    \n",
      " rapperV2)                                                       \n",
      "                                                                 \n",
      " quant_conv_pw_10_bn (Quanti  (None, 2, 2, 512)        2049      \n",
      " zeWrapperV2)                                                    \n",
      "                                                                 \n",
      " quant_conv_pw_10_relu (Quan  (None, 2, 2, 512)        3         \n",
      " tizeWrapperV2)                                                  \n",
      "                                                                 \n",
      " quant_conv_dw_11 (QuantizeW  (None, 2, 2, 512)        4611      \n",
      " rapperV2)                                                       \n",
      "                                                                 \n",
      " quant_conv_dw_11_bn (Quanti  (None, 2, 2, 512)        2049      \n",
      " zeWrapperV2)                                                    \n",
      "                                                                 \n",
      " quant_conv_dw_11_relu (Quan  (None, 2, 2, 512)        3         \n",
      " tizeWrapperV2)                                                  \n",
      "                                                                 \n",
      " quant_conv_pw_11 (QuantizeW  (None, 2, 2, 512)        263169    \n",
      " rapperV2)                                                       \n",
      "                                                                 \n",
      " quant_conv_pw_11_bn (Quanti  (None, 2, 2, 512)        2049      \n",
      " zeWrapperV2)                                                    \n",
      "                                                                 \n",
      " quant_conv_pw_11_relu (Quan  (None, 2, 2, 512)        3         \n",
      " tizeWrapperV2)                                                  \n",
      "                                                                 \n",
      " quant_conv_pad_12 (Quantize  (None, 3, 3, 512)        1         \n",
      " WrapperV2)                                                      \n",
      "                                                                 \n",
      " quant_conv_dw_12 (QuantizeW  (None, 1, 1, 512)        4611      \n",
      " rapperV2)                                                       \n",
      "                                                                 \n",
      " quant_conv_dw_12_bn (Quanti  (None, 1, 1, 512)        2049      \n",
      " zeWrapperV2)                                                    \n",
      "                                                                 \n",
      " quant_conv_dw_12_relu (Quan  (None, 1, 1, 512)        3         \n",
      " tizeWrapperV2)                                                  \n",
      "                                                                 \n",
      " quant_conv_pw_12 (QuantizeW  (None, 1, 1, 1024)       526337    \n",
      " rapperV2)                                                       \n",
      "                                                                 \n",
      " quant_conv_pw_12_bn (Quanti  (None, 1, 1, 1024)       4097      \n",
      " zeWrapperV2)                                                    \n",
      "                                                                 \n",
      " quant_conv_pw_12_relu (Quan  (None, 1, 1, 1024)       3         \n",
      " tizeWrapperV2)                                                  \n",
      "                                                                 \n",
      " quant_conv_dw_13 (QuantizeW  (None, 1, 1, 1024)       9219      \n",
      " rapperV2)                                                       \n",
      "                                                                 \n",
      " quant_conv_dw_13_bn (Quanti  (None, 1, 1, 1024)       4097      \n",
      " zeWrapperV2)                                                    \n",
      "                                                                 \n",
      " quant_conv_dw_13_relu (Quan  (None, 1, 1, 1024)       3         \n",
      " tizeWrapperV2)                                                  \n",
      "                                                                 \n",
      " quant_conv_pw_13 (QuantizeW  (None, 1, 1, 1024)       1050625   \n",
      " rapperV2)                                                       \n",
      "                                                                 \n",
      " quant_conv_pw_13_bn (Quanti  (None, 1, 1, 1024)       4097      \n",
      " zeWrapperV2)                                                    \n",
      "                                                                 \n",
      " quant_conv_pw_13_relu (Quan  (None, 1, 1, 1024)       3         \n",
      " tizeWrapperV2)                                                  \n",
      "                                                                 \n",
      " quant_global_average_poolin  (None, 1024)             3         \n",
      " g2d_10 (QuantizeWrapperV2)                                      \n",
      "                                                                 \n",
      " quant_dropout_10 (QuantizeW  (None, 1024)             1         \n",
      " rapperV2)                                                       \n",
      "                                                                 \n",
      " quant_dense_11 (QuantizeWra  (None, 10)               10255     \n",
      " pperV2)                                                         \n",
      "                                                                 \n",
      "=================================================================\n",
      "Total params: 3,251,259\n",
      "Trainable params: 3,217,226\n",
      "Non-trainable params: 34,033\n",
      "_________________________________________________________________\n"
     ]
    },
    {
     "name": "stderr",
     "output_type": "stream",
     "text": [
      "\n"
     ]
    }
   ],
   "source": [
    "quantize_annotate_layer = tfmot.quantization.keras.quantize_annotate_layer\n",
    "quantize_annotate_model = tfmot.quantization.keras.quantize_annotate_model\n",
    "quantize_scope = tfmot.quantization.keras.quantize_scope\n",
    "\n",
    "all_qat_models = []\n",
    "rng = range(4, 17, 2)\n",
    "\n",
    "for n_bits in tqdm(rng):\n",
    "    class ModifiedDenseQuantizeConfig(DefaultDenseQuantizeConfig):\n",
    "\n",
    "        # Configure weights to quantize with n-bit instead of 8-bits.\n",
    "        def get_weights_and_quantizers(self, layer):\n",
    "            return [(layer.kernel, LastValueQuantizer(num_bits=n_bits, symmetric=True, narrow_range=False, per_axis=False))]\n",
    "\n",
    "    def apply_quantization_to_dense(layer):\n",
    "        if type(layer) in [keras.layers.Dense]:\n",
    "            return quantize_annotate_layer(layer)\n",
    "        return layer\n",
    "\n",
    "    inputs = Input(shape=(32, 32, 3))\n",
    "    base_model = MobileNet(input_tensor=inputs, include_top=False, weights=None, pooling='avg')\n",
    "    x = Dropout(0.25)(base_model.output)\n",
    "    outputs = Dense(10, activation='softmax')(x)\n",
    "    curr_model = Model(inputs, outputs)\n",
    "\n",
    "    annotated_model = tf.keras.models.clone_model(\n",
    "        curr_model,\n",
    "        clone_function=apply_quantization_to_dense,\n",
    "    )\n",
    "\n",
    "    qat_model = quantize_annotate_model(annotated_model)\n",
    "\n",
    "    # `quantize_apply` requires mentioning `ModifiedDenseQuantizeConfig` with `quantize_scope`:\n",
    "    with quantize_scope(\n",
    "            {'ModifiedDenseQuantizeConfig': ModifiedDenseQuantizeConfig}):\n",
    "        # Use `quantize_apply` to actually make the model quantization aware.\n",
    "        qat_model = tfmot.quantization.keras.quantize_apply(qat_model)\n",
    "\n",
    "    qat_model.compile(optimizer='adam',\n",
    "                            loss=tf.keras.losses.SparseCategoricalCrossentropy(\n",
    "                                from_logits=True),\n",
    "                            metrics=['accuracy'])\n",
    "\n",
    "    qat_model.fit(train_images_rgb, y_train, epochs=1, validation_split = 0.2, verbose=0)\n",
    "\n",
    "    all_qat_models.append(qat_model)\n",
    "\n",
    "all_qat_models[0].summary()"
   ]
  },
  {
   "cell_type": "code",
   "execution_count": 24,
   "metadata": {},
   "outputs": [
    {
     "name": "stdout",
     "output_type": "stream",
     "text": [
      "Model Test Accuracy (without Quantization) \t: 0.8572\n",
      "QAT Models Test Accuracy (without Quantization) : \n",
      "[0.7419, 0.8046, 0.8311, 0.7919, 0.816, 0.8422, 0.8308]\n"
     ]
    }
   ],
   "source": [
    "_, baseline_model_accuracy = model.evaluate(test_images_rgb, test_labels, verbose=0)\n",
    "all_qat_accs = []\n",
    "\n",
    "for qat_model in all_qat_models:\n",
    "    _, qat_model_accuracy = qat_model.evaluate(test_images_rgb, y_test, verbose=0)\n",
    "    all_qat_accs.append(round(qat_model_accuracy, 4))\n",
    "\n",
    "print(f\"Model Test Accuracy (without Quantization) \\t: {baseline_model_accuracy:.4f}\")\n",
    "print(f\"QAT Models Test Accuracy (without Quantization) : \\n{all_qat_accs}\")\n"
   ]
  },
  {
   "cell_type": "code",
   "execution_count": 22,
   "metadata": {},
   "outputs": [
    {
     "data": {
      "image/png": "[encoded data removed]",
      "text/plain": [
       "<Figure size 864x432 with 1 Axes>"
      ]
     },
     "metadata": {
      "needs_background": "light"
     },
     "output_type": "display_data"
    }
   ],
   "source": [
    "plt.figure(figsize=(12, 6))\n",
    "plt.title('Accuracy vs n-bit for QAT Models', fontsize=14)\n",
    "plt.plot(rng, all_qat_accs, color='green')\n",
    "plt.scatter(rng, all_qat_accs, color='green', label='QAT Models')\n",
    "plt.xlabel('number of bits')\n",
    "plt.ylabel('accuracy')\n",
    "plt.legend()\n",
    "plt.show()\n"
   ]
  },
  {
   "cell_type": "code",
   "execution_count": 25,
   "metadata": {},
   "outputs": [
    {
     "data": {
      "text/html": [
       "<div>\n",
       "<style scoped>\n",
       "    .dataframe tbody tr th:only-of-type {\n",
       "        vertical-align: middle;\n",
       "    }\n",
       "\n",
       "    .dataframe tbody tr th {\n",
       "        vertical-align: top;\n",
       "    }\n",
       "\n",
       "    .dataframe thead th {\n",
       "        text-align: right;\n",
       "    }\n",
       "</style>\n",
       "<table border=\"1\" class=\"dataframe\">\n",
       "  <thead>\n",
       "    <tr style=\"text-align: right;\">\n",
       "      <th></th>\n",
       "      <th>Models</th>\n",
       "      <th>Accuracies</th>\n",
       "    </tr>\n",
       "  </thead>\n",
       "  <tbody>\n",
       "    <tr>\n",
       "      <th>0</th>\n",
       "      <td>Float Model</td>\n",
       "      <td>0.8572</td>\n",
       "    </tr>\n",
       "    <tr>\n",
       "      <th>1</th>\n",
       "      <td>4-bit QAT Model</td>\n",
       "      <td>0.7419</td>\n",
       "    </tr>\n",
       "    <tr>\n",
       "      <th>2</th>\n",
       "      <td>6-bit QAT Model</td>\n",
       "      <td>0.8046</td>\n",
       "    </tr>\n",
       "    <tr>\n",
       "      <th>3</th>\n",
       "      <td>8-bit QAT Model</td>\n",
       "      <td>0.8311</td>\n",
       "    </tr>\n",
       "    <tr>\n",
       "      <th>4</th>\n",
       "      <td>10-bit QAT Model</td>\n",
       "      <td>0.7919</td>\n",
       "    </tr>\n",
       "    <tr>\n",
       "      <th>5</th>\n",
       "      <td>12-bit QAT Model</td>\n",
       "      <td>0.8160</td>\n",
       "    </tr>\n",
       "    <tr>\n",
       "      <th>6</th>\n",
       "      <td>14-bit QAT Model</td>\n",
       "      <td>0.8422</td>\n",
       "    </tr>\n",
       "    <tr>\n",
       "      <th>7</th>\n",
       "      <td>16-bit QAT Model</td>\n",
       "      <td>0.8308</td>\n",
       "    </tr>\n",
       "  </tbody>\n",
       "</table>\n",
       "</div>"
      ],
      "text/plain": [
       "             Models  Accuracies\n",
       "0       Float Model      0.8572\n",
       "1   4-bit QAT Model      0.7419\n",
       "2   6-bit QAT Model      0.8046\n",
       "3   8-bit QAT Model      0.8311\n",
       "4  10-bit QAT Model      0.7919\n",
       "5  12-bit QAT Model      0.8160\n",
       "6  14-bit QAT Model      0.8422\n",
       "7  16-bit QAT Model      0.8308"
      ]
     },
     "execution_count": 25,
     "metadata": {},
     "output_type": "execute_result"
    }
   ],
   "source": [
    "d = {'Models':['Float Model']+[f'{n}-bit QAT Model' for n in rng], 'Accuracies':[baseline_model_accuracy]+all_qat_accs}\n",
    "table = pd.DataFrame(d)\n",
    "\n",
    "table"
   ]
  },
  {
   "cell_type": "code",
   "execution_count": 26,
   "metadata": {},
   "outputs": [
    {
     "name": "stdout",
     "output_type": "stream",
     "text": [
      "INFO:tensorflow:Assets written to: C:\\Users\\YASHMA~1\\AppData\\Local\\Temp\\tmpd20zy1p6\\assets\n"
     ]
    },
    {
     "name": "stderr",
     "output_type": "stream",
     "text": [
      "WARNING:absl:Found untraced functions such as conv1_layer_call_fn, conv1_layer_call_and_return_conditional_losses, conv1_relu_layer_call_fn, conv1_relu_layer_call_and_return_conditional_losses, conv_dw_1_layer_call_fn while saving (showing 5 of 280). These functions will not be directly callable after loading.\n"
     ]
    },
    {
     "name": "stdout",
     "output_type": "stream",
     "text": [
      "INFO:tensorflow:Assets written to: C:\\Users\\YASHMA~1\\AppData\\Local\\Temp\\tmpminziook\\assets\n"
     ]
    },
    {
     "name": "stderr",
     "output_type": "stream",
     "text": [
      "INFO:tensorflow:Assets written to: C:\\Users\\YASHMA~1\\AppData\\Local\\Temp\\tmpminziook\\assets\n"
     ]
    }
   ],
   "source": [
    "# Create float TFLite model.\n",
    "float_converter = tf.lite.TFLiteConverter.from_keras_model(model)\n",
    "float_tflite_model = float_converter.convert()\n",
    "float_model_size = len(float_tflite_model) / float(2**20)\n",
    "\n",
    "converter = tf.lite.TFLiteConverter.from_keras_model(all_qat_models[1])\n",
    "converter.optimizations = [tf.lite.Optimize.DEFAULT]\n",
    "quantized_tflite_model = converter.convert()\n",
    "\n",
    "float_model_size = len(float_tflite_model) / float(2**20)\n",
    "qat_model_size = len(quantized_tflite_model) / float(2**20)"
   ]
  },
  {
   "cell_type": "code",
   "execution_count": 28,
   "metadata": {},
   "outputs": [
    {
     "name": "stdout",
     "output_type": "stream",
     "text": [
      "Float model size \t: 12.7128 mb\n",
      "8-bit QAT Model size \t: 3.3596 mb\n"
     ]
    }
   ],
   "source": [
    "\n",
    "print(f\"Float model size \\t: {float_model_size:.4f} mb\")\n",
    "print(f\"8-bit QAT Model size \\t: {qat_model_size:.4f} mb\")"
   ]
  },
  {
   "cell_type": "code",
   "execution_count": 73,
   "metadata": {},
   "outputs": [],
   "source": [
    "def evaluate_model(model):\n",
    "    interpreter = tf.lite.Interpreter(model_content=model)\n",
    "    interpreter.allocate_tensors()\n",
    "\n",
    "    input_index = interpreter.get_input_details()[0][\"index\"]\n",
    "    output_index = interpreter.get_output_details()[0][\"index\"]\n",
    "\n",
    "    # Run predictions on every image in the \"test\" dataset.\n",
    "    prediction_digits = []\n",
    "    for i, test_image in enumerate(test_images_rgb[:2000]):\n",
    "        if i % 500 == 0:\n",
    "            print('Evaluated on {n} results so far.'.format(n=i))\n",
    "        # Pre-processing: add batch dimension and convert to float32 to match with\n",
    "        # the model's input data format.\n",
    "        test_image = np.expand_dims(test_image, axis=0).astype(np.float32)\n",
    "        interpreter.set_tensor(input_index, test_image)\n",
    "\n",
    "        # Run inference.\n",
    "        interpreter.invoke()\n",
    "\n",
    "        # Post-processing: remove batch dimension and find the digit with highest\n",
    "        # probability.\n",
    "        output = interpreter.tensor(output_index)\n",
    "        digit = np.argmax(output()[0])\n",
    "        prediction_digits.append(digit)\n",
    "\n",
    "    print('\\n')\n",
    "    # Compare prediction results with ground truth labels to calculate accuracy.\n",
    "    prediction_digits = np.array(prediction_digits)\n",
    "\n",
    "    corrects = 0\n",
    "    for x in range(len(prediction_digits)):\n",
    "        if prediction_digits[x]==y_test[x]:\n",
    "            corrects+=1\n",
    "    return corrects/len(prediction_digits)\n"
   ]
  },
  {
   "cell_type": "code",
   "execution_count": 74,
   "metadata": {},
   "outputs": [
    {
     "name": "stdout",
     "output_type": "stream",
     "text": [
      "Evaluated on 0 results so far.\n",
      "Evaluated on 500 results so far.\n",
      "Evaluated on 1000 results so far.\n",
      "Evaluated on 1500 results so far.\n",
      "\n",
      "\n",
      "Evaluated on 0 results so far.\n",
      "Evaluated on 500 results so far.\n",
      "Evaluated on 1000 results so far.\n",
      "Evaluated on 1500 results so far.\n",
      "\n",
      "\n"
     ]
    }
   ],
   "source": [
    "quantized_tflite_model_accuracy = evaluate_model(quantized_tflite_model)\n",
    "float_tflite_model_accuracy = evaluate_model(float_tflite_model)"
   ]
  },
  {
   "cell_type": "code",
   "execution_count": 75,
   "metadata": {},
   "outputs": [
    {
     "name": "stdout",
     "output_type": "stream",
     "text": [
      "Float TFLite test_accuracy (without Quantization) \t : 0.8345\n",
      "QAT TFLite test_accuracy (with 8-bit Quantization) \t : 0.7400\n"
     ]
    }
   ],
   "source": [
    "print(f\"Float TFLite test_accuracy (without Quantization) \\t : {float_tflite_model_accuracy:.4f}\")\n",
    "print(f\"QAT TFLite test_accuracy (with 8-bit Quantization) \\t : {quantized_tflite_model_accuracy:.4f}\")\n"
   ]
  }
 ],
 "metadata": {
  "kernelspec": {
   "display_name": "Python 3.9.1 64-bit",
   "language": "python",
   "name": "python3"
  },
  "language_info": {
   "codemirror_mode": {
    "name": "ipython",
    "version": 3
   },
   "file_extension": ".py",
   "mimetype": "text/x-python",
   "name": "python",
   "nbconvert_exporter": "python",
   "pygments_lexer": "ipython3",
   "version": "3.9.1"
  },
  "orig_nbformat": 4,
  "vscode": {
   "interpreter": {
    "hash": "c3a0e1ed7a67280133f8ade5886c8db9f663bbe0c0db84aba701ac80290ec8d2"
   }
  }
 },
 "nbformat": 4,
 "nbformat_minor": 2
}
