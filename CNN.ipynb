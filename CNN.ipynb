{
 "cells": [
  {
   "cell_type": "code",
   "execution_count": 1,
   "metadata": {},
   "outputs": [],
   "source": [
    "import numpy as np\n",
    "import pandas as pd\n",
    "import matplotlib.pyplot as plt\n",
    "import tensorflow as tf\n",
    "from tensorflow import keras\n",
    "from tensorflow.keras import layers\n",
    "import tensorflow_model_optimization as tfmot\n",
    "from tqdm import tqdm\n",
    "\n",
    "import tempfile\n",
    "import os\n"
   ]
  },
  {
   "cell_type": "code",
   "execution_count": 2,
   "metadata": {},
   "outputs": [
    {
     "data": {
      "text/plain": [
       "[]"
      ]
     },
     "execution_count": 2,
     "metadata": {},
     "output_type": "execute_result"
    },
    {
     "data": {
      "image/png": "[encoded data removed]",
      "text/plain": [
       "<Figure size 345.6x345.6 with 1 Axes>"
      ]
     },
     "metadata": {
      "needs_background": "light"
     },
     "output_type": "display_data"
    }
   ],
   "source": [
    "# Load MNIST dataset\n",
    "mnist = keras.datasets.fashion_mnist\n",
    "(train_images, train_labels), (test_images, test_labels) = mnist.load_data()\n",
    "\n",
    "# Normalize the input image so that each pixel value is between 0 to 1.\n",
    "train_images = train_images / 255.0\n",
    "test_images = test_images / 255.0\n",
    "\n",
    "plt.matshow(train_images[1])\n",
    "plt.plot()\n"
   ]
  },
  {
   "cell_type": "code",
   "execution_count": 43,
   "metadata": {},
   "outputs": [
    {
     "name": "stdout",
     "output_type": "stream",
     "text": [
      "1407/1407 [==============================] - 11s 8ms/step - loss: 0.4474 - accuracy: 0.8431 - val_loss: 0.3260 - val_accuracy: 0.8843\n"
     ]
    },
    {
     "data": {
      "text/plain": [
       "<keras.callbacks.History at 0x2e17b9cab80>"
      ]
     },
     "execution_count": 43,
     "metadata": {},
     "output_type": "execute_result"
    }
   ],
   "source": [
    "# naive, with just dense layers\n",
    "initial_layers1 = [keras.layers.InputLayer(input_shape=(28, 28)),\n",
    "                  keras.layers.Reshape(target_shape=(28, 28, 1)),\n",
    "                  keras.layers.Flatten(),\n",
    "                  keras.layers.Dense(10)]\n",
    "\n",
    "# added convolution and maxpooling\n",
    "initial_layers2 = [keras.layers.InputLayer(input_shape=(28, 28)),\n",
    "                  keras.layers.Reshape(target_shape=(28, 28, 1)),\n",
    "                  keras.layers.Conv2D(filters=12, kernel_size=(3, 3), activation='relu'),\n",
    "                  keras.layers.MaxPooling2D(pool_size=(2, 2)),\n",
    "                  keras.layers.Flatten(),\n",
    "                  keras.layers.Dense(10)]\n",
    "\n",
    "# added dense layer for greater parameters and better classification\n",
    "initial_layers3 = [keras.layers.InputLayer(input_shape=(28, 28)),\n",
    "                  keras.layers.Reshape(target_shape=(28, 28, 1)),\n",
    "                  keras.layers.Conv2D(filters=12, kernel_size=(3, 3), activation='relu'),\n",
    "                  keras.layers.MaxPooling2D(pool_size=(2, 2)),\n",
    "                  keras.layers.Flatten(),\n",
    "                  keras.layers.Dense(128, activation='relu'),\n",
    "                  keras.layers.Dense(10)]                \n",
    "\n",
    "# Define the model architecture.\n",
    "model = keras.Sequential(initial_layers3)\n",
    "\n",
    "# Train the digit classification model\n",
    "model.compile(optimizer='adam',\n",
    "              loss=tf.keras.losses.SparseCategoricalCrossentropy(\n",
    "                  from_logits=True),\n",
    "              metrics=['accuracy'])\n",
    "\n",
    "model.fit(\n",
    "    train_images,\n",
    "    train_labels,\n",
    "    epochs=1,\n",
    "    validation_split=0.25,\n",
    ")\n"
   ]
  },
  {
   "cell_type": "code",
   "execution_count": 4,
   "metadata": {},
   "outputs": [],
   "source": [
    "LastValueQuantizer = tfmot.quantization.keras.quantizers.LastValueQuantizer\n",
    "MovingAverageQuantizer = tfmot.quantization.keras.quantizers.MovingAverageQuantizer\n",
    "\n",
    "\n",
    "class DefaultDenseQuantizeConfig(tfmot.quantization.keras.QuantizeConfig):\n",
    "    # Configure how to quantize weights.\n",
    "    def get_weights_and_quantizers(self, layer):\n",
    "        return [(layer.kernel, LastValueQuantizer(num_bits=8, symmetric=True, narrow_range=False, per_axis=False))]\n",
    "\n",
    "    # Configure how to quantize activations.\n",
    "    def get_activations_and_quantizers(self, layer):\n",
    "        return [(layer.activation, MovingAverageQuantizer(num_bits=8, symmetric=False, narrow_range=False, per_axis=False))]\n",
    "\n",
    "    def set_quantize_weights(self, layer, quantize_weights):\n",
    "        # Add this line for each item returned in `get_weights_and_quantizers`\n",
    "        # , in the same order\n",
    "        layer.kernel = quantize_weights[0]\n",
    "\n",
    "    def set_quantize_activations(self, layer, quantize_activations):\n",
    "        # Add this line for each item returned in `get_activations_and_quantizers`\n",
    "        # , in the same order.\n",
    "        layer.activation = quantize_activations[0]\n",
    "\n",
    "    # Configure how to quantize outputs (may be equivalent to activations).\n",
    "    def get_output_quantizers(self, layer):\n",
    "        return []\n",
    "\n",
    "    def get_config(self):\n",
    "        return {}\n"
   ]
  },
  {
   "cell_type": "code",
   "execution_count": 10,
   "metadata": {},
   "outputs": [
    {
     "name": "stderr",
     "output_type": "stream",
     "text": [
      "100%|██████████| 13/13 [02:53<00:00, 13.38s/it]"
     ]
    },
    {
     "name": "stdout",
     "output_type": "stream",
     "text": [
      "Model: \"sequential_14\"\n",
      "_________________________________________________________________\n",
      " Layer (type)                Output Shape              Param #   \n",
      "=================================================================\n",
      " quantize_layer_13 (Quantize  (None, 28, 28)           3         \n",
      " Layer)                                                          \n",
      "                                                                 \n",
      " quant_reshape_1 (QuantizeWr  (None, 28, 28, 1)        1         \n",
      " apperV2)                                                        \n",
      "                                                                 \n",
      " quant_conv2d (QuantizeWrapp  (None, 26, 26, 12)       125       \n",
      " erV2)                                                           \n",
      "                                                                 \n",
      " quant_max_pooling2d (Quanti  (None, 13, 13, 12)       1         \n",
      " zeWrapperV2)                                                    \n",
      "                                                                 \n",
      " quant_flatten_1 (QuantizeWr  (None, 2028)             1         \n",
      " apperV2)                                                        \n",
      "                                                                 \n",
      " quant_dense_1 (QuantizeWrap  (None, 10)               20295     \n",
      " perV2)                                                          \n",
      "                                                                 \n",
      "=================================================================\n",
      "Total params: 20,426\n",
      "Trainable params: 20,410\n",
      "Non-trainable params: 16\n",
      "_________________________________________________________________\n"
     ]
    },
    {
     "name": "stderr",
     "output_type": "stream",
     "text": [
      "\n"
     ]
    }
   ],
   "source": [
    "quantize_annotate_layer = tfmot.quantization.keras.quantize_annotate_layer\n",
    "quantize_annotate_model = tfmot.quantization.keras.quantize_annotate_model\n",
    "quantize_scope = tfmot.quantization.keras.quantize_scope\n",
    "\n",
    "all_qat_models = []\n",
    "rng = range(4, 17)\n",
    "\n",
    "for n_bits in tqdm(rng):\n",
    "    class ModifiedDenseQuantizeConfig(DefaultDenseQuantizeConfig):\n",
    "\n",
    "        # Configure weights to quantize with n-bit instead of 8-bits.\n",
    "        def get_weights_and_quantizers(self, layer):\n",
    "            return [(layer.kernel, LastValueQuantizer(num_bits=n_bits, symmetric=True, narrow_range=False, per_axis=False))]\n",
    "\n",
    "    def apply_quantization_to_dense(layer):\n",
    "        if type(layer) in [keras.layers.InputLayer, keras.layers.Conv2D, keras.layers.Dense]:\n",
    "            return quantize_annotate_layer(layer, ModifiedDenseQuantizeConfig())\n",
    "        return layer\n",
    "\n",
    "    model = keras.Sequential(initial_layers1)\n",
    "\n",
    "    annotated_model = tf.keras.models.clone_model(\n",
    "        model,\n",
    "        clone_function=apply_quantization_to_dense,\n",
    "    )\n",
    "\n",
    "    qat_model = quantize_annotate_model(annotated_model)\n",
    "\n",
    "    # `quantize_apply` requires mentioning `ModifiedDenseQuantizeConfig` with `quantize_scope`:\n",
    "    with quantize_scope(\n",
    "            {'ModifiedDenseQuantizeConfig': ModifiedDenseQuantizeConfig}):\n",
    "        # Use `quantize_apply` to actually make the model quantization aware.\n",
    "        qat_model = tfmot.quantization.keras.quantize_apply(qat_model)\n",
    "\n",
    "    qat_model.compile(optimizer='adam',\n",
    "                            loss=tf.keras.losses.SparseCategoricalCrossentropy(\n",
    "                                from_logits=True),\n",
    "                            metrics=['accuracy'])\n",
    "\n",
    "    qat_model.fit(\n",
    "        train_images,\n",
    "        train_labels,\n",
    "        epochs=1,\n",
    "        validation_split=0.25,\n",
    "        verbose=0\n",
    "    )\n",
    "\n",
    "    all_qat_models.append(qat_model)\n",
    "\n",
    "all_qat_models[0].summary()"
   ]
  },
  {
   "cell_type": "code",
   "execution_count": 73,
   "metadata": {},
   "outputs": [
    {
     "name": "stdout",
     "output_type": "stream",
     "text": [
      "Model Test Accuracy (without Quantization) \t: 0.8837000131607056\n",
      "QAT Models Test Accuracy (without Quantization) : \n",
      "[0.8701, 0.8666, 0.8727, 0.8686, 0.873, 0.8698, 0.875, 0.8741, 0.8717, 0.8772, 0.8753, 0.8774, 0.8781]\n"
     ]
    }
   ],
   "source": [
    "model.compile(optimizer='adam',\n",
    "              loss=tf.keras.losses.SparseCategoricalCrossentropy(\n",
    "                  from_logits=True),\n",
    "              metrics=['accuracy'])\n",
    "_, baseline_model_accuracy = model.evaluate(test_images, test_labels, verbose=0)\n",
    "all_qat_accs = []\n",
    "\n",
    "for qat_model in all_qat_models:\n",
    "    _, qat_model_accuracy = qat_model.evaluate(test_images, test_labels, verbose=0)\n",
    "    all_qat_accs.append(round(qat_model_accuracy, 4))\n",
    "\n",
    "print(f\"Model Test Accuracy (without Quantization) \\t: {baseline_model_accuracy}\")\n",
    "print(f\"QAT Models Test Accuracy (without Quantization) : \\n{all_qat_accs}\")\n"
   ]
  },
  {
   "cell_type": "code",
   "execution_count": 75,
   "metadata": {},
   "outputs": [
    {
     "data": {
      "image/png": "[encoded data removed]",
      "text/plain": [
       "<Figure size 1152x432 with 1 Axes>"
      ]
     },
     "metadata": {
      "needs_background": "light"
     },
     "output_type": "display_data"
    }
   ],
   "source": [
    "plt.figure(figsize=(16, 6))\n",
    "plt.title('Accuracy vs n-bit for QAT Models', fontsize=14)\n",
    "plt.plot(rng, all_qat_accs, color='green')\n",
    "plt.scatter(rng, all_qat_accs, color='green', label='QAT Models')\n",
    "plt.scatter([32], baseline_model_accuracy, color='orange', label='Float Models')\n",
    "plt.xlabel('number of bits')\n",
    "plt.ylabel('accuracy')\n",
    "plt.legend()\n",
    "plt.show()\n"
   ]
  },
  {
   "cell_type": "code",
   "execution_count": 56,
   "metadata": {},
   "outputs": [
    {
     "data": {
      "text/html": [
       "<div>\n",
       "<style scoped>\n",
       "    .dataframe tbody tr th:only-of-type {\n",
       "        vertical-align: middle;\n",
       "    }\n",
       "\n",
       "    .dataframe tbody tr th {\n",
       "        vertical-align: top;\n",
       "    }\n",
       "\n",
       "    .dataframe thead th {\n",
       "        text-align: right;\n",
       "    }\n",
       "</style>\n",
       "<table border=\"1\" class=\"dataframe\">\n",
       "  <thead>\n",
       "    <tr style=\"text-align: right;\">\n",
       "      <th></th>\n",
       "      <th>Models</th>\n",
       "      <th>Accuracies</th>\n",
       "    </tr>\n",
       "  </thead>\n",
       "  <tbody>\n",
       "    <tr>\n",
       "      <th>0</th>\n",
       "      <td>Float Model</td>\n",
       "      <td>0.8837</td>\n",
       "    </tr>\n",
       "    <tr>\n",
       "      <th>1</th>\n",
       "      <td>4-bit QAT Model</td>\n",
       "      <td>0.8701</td>\n",
       "    </tr>\n",
       "    <tr>\n",
       "      <th>2</th>\n",
       "      <td>5-bit QAT Model</td>\n",
       "      <td>0.8666</td>\n",
       "    </tr>\n",
       "    <tr>\n",
       "      <th>3</th>\n",
       "      <td>6-bit QAT Model</td>\n",
       "      <td>0.8727</td>\n",
       "    </tr>\n",
       "    <tr>\n",
       "      <th>4</th>\n",
       "      <td>7-bit QAT Model</td>\n",
       "      <td>0.8686</td>\n",
       "    </tr>\n",
       "    <tr>\n",
       "      <th>5</th>\n",
       "      <td>8-bit QAT Model</td>\n",
       "      <td>0.8730</td>\n",
       "    </tr>\n",
       "    <tr>\n",
       "      <th>6</th>\n",
       "      <td>9-bit QAT Model</td>\n",
       "      <td>0.8698</td>\n",
       "    </tr>\n",
       "    <tr>\n",
       "      <th>7</th>\n",
       "      <td>10-bit QAT Model</td>\n",
       "      <td>0.8750</td>\n",
       "    </tr>\n",
       "    <tr>\n",
       "      <th>8</th>\n",
       "      <td>11-bit QAT Model</td>\n",
       "      <td>0.8741</td>\n",
       "    </tr>\n",
       "    <tr>\n",
       "      <th>9</th>\n",
       "      <td>12-bit QAT Model</td>\n",
       "      <td>0.8717</td>\n",
       "    </tr>\n",
       "    <tr>\n",
       "      <th>10</th>\n",
       "      <td>13-bit QAT Model</td>\n",
       "      <td>0.8765</td>\n",
       "    </tr>\n",
       "    <tr>\n",
       "      <th>11</th>\n",
       "      <td>14-bit QAT Model</td>\n",
       "      <td>0.8750</td>\n",
       "    </tr>\n",
       "    <tr>\n",
       "      <th>12</th>\n",
       "      <td>15-bit QAT Model</td>\n",
       "      <td>0.8770</td>\n",
       "    </tr>\n",
       "    <tr>\n",
       "      <th>13</th>\n",
       "      <td>16-bit QAT Model</td>\n",
       "      <td>0.8780</td>\n",
       "    </tr>\n",
       "  </tbody>\n",
       "</table>\n",
       "</div>"
      ],
      "text/plain": [
       "              Models  Accuracies\n",
       "0        Float Model      0.8837\n",
       "1    4-bit QAT Model      0.8701\n",
       "2    5-bit QAT Model      0.8666\n",
       "3    6-bit QAT Model      0.8727\n",
       "4    7-bit QAT Model      0.8686\n",
       "5    8-bit QAT Model      0.8730\n",
       "6    9-bit QAT Model      0.8698\n",
       "7   10-bit QAT Model      0.8750\n",
       "8   11-bit QAT Model      0.8741\n",
       "9   12-bit QAT Model      0.8717\n",
       "10  13-bit QAT Model      0.8765\n",
       "11  14-bit QAT Model      0.8750\n",
       "12  15-bit QAT Model      0.8770\n",
       "13  16-bit QAT Model      0.8780"
      ]
     },
     "execution_count": 56,
     "metadata": {},
     "output_type": "execute_result"
    }
   ],
   "source": [
    "d = {'Models':['Float Model']+[f'{n}-bit QAT Model' for n in rng], 'Accuracies':[baseline_model_accuracy]+all_qat_accs}\n",
    "table = pd.DataFrame(d)\n",
    "\n",
    "table"
   ]
  },
  {
   "cell_type": "code",
   "execution_count": 59,
   "metadata": {},
   "outputs": [
    {
     "name": "stdout",
     "output_type": "stream",
     "text": [
      "INFO:tensorflow:Assets written to: C:\\Users\\YASHMA~1\\AppData\\Local\\Temp\\tmpd4xac7gy\\assets\n"
     ]
    },
    {
     "name": "stderr",
     "output_type": "stream",
     "text": [
      "INFO:tensorflow:Assets written to: C:\\Users\\YASHMA~1\\AppData\\Local\\Temp\\tmpd4xac7gy\\assets\n",
      "WARNING:absl:Found untraced functions such as reshape_1_layer_call_fn, reshape_1_layer_call_and_return_conditional_losses, conv2d_layer_call_fn, conv2d_layer_call_and_return_conditional_losses, flatten_1_layer_call_fn while saving (showing 5 of 20). These functions will not be directly callable after loading.\n"
     ]
    },
    {
     "name": "stdout",
     "output_type": "stream",
     "text": [
      "INFO:tensorflow:Assets written to: C:\\Users\\YASHMA~1\\AppData\\Local\\Temp\\tmpay3y3gec\\assets\n"
     ]
    },
    {
     "name": "stderr",
     "output_type": "stream",
     "text": [
      "INFO:tensorflow:Assets written to: C:\\Users\\YASHMA~1\\AppData\\Local\\Temp\\tmpay3y3gec\\assets\n"
     ]
    }
   ],
   "source": [
    "# Create float TFLite model.\n",
    "float_converter = tf.lite.TFLiteConverter.from_keras_model(model)\n",
    "float_tflite_model = float_converter.convert()\n",
    "float_model_size = len(float_tflite_model) / float(2**20)\n",
    "\n",
    "converter = tf.lite.TFLiteConverter.from_keras_model(all_qat_models[0])\n",
    "converter.optimizations = [tf.lite.Optimize.DEFAULT]\n",
    "quantized_tflite_model = converter.convert()\n",
    "\n",
    "float_model_size = len(float_tflite_model) / float(2**20)\n",
    "qat_model_size = len(quantized_tflite_model) / float(2**20)"
   ]
  },
  {
   "cell_type": "code",
   "execution_count": 81,
   "metadata": {},
   "outputs": [
    {
     "name": "stdout",
     "output_type": "stream",
     "text": [
      "Float model size \t: 0.9174 mb\n",
      "8-bit QAT Model size \t: 0.0233 mb\n"
     ]
    }
   ],
   "source": [
    "\n",
    "print(f\"Float model size \\t: {float_model_size:.4f} mb\")\n",
    "print(f\"8-bit QAT Model size \\t: {qat_model_size:.4f} mb\")"
   ]
  },
  {
   "cell_type": "code",
   "execution_count": 65,
   "metadata": {},
   "outputs": [],
   "source": [
    "def evaluate_model(model):\n",
    "    interpreter = tf.lite.Interpreter(model_content=model)\n",
    "    interpreter.allocate_tensors()\n",
    "\n",
    "    input_index = interpreter.get_input_details()[0][\"index\"]\n",
    "    output_index = interpreter.get_output_details()[0][\"index\"]\n",
    "\n",
    "    # Run predictions on every image in the \"test\" dataset.\n",
    "    prediction_digits = []\n",
    "    for i, test_image in enumerate(test_images):\n",
    "        if i % 1000 == 0:\n",
    "            print('Evaluated on {n} results so far.'.format(n=i))\n",
    "        # Pre-processing: add batch dimension and convert to float32 to match with\n",
    "        # the model's input data format.\n",
    "        test_image = np.expand_dims(test_image, axis=0).astype(np.float32)\n",
    "        interpreter.set_tensor(input_index, test_image)\n",
    "\n",
    "        # Run inference.\n",
    "        interpreter.invoke()\n",
    "\n",
    "        # Post-processing: remove batch dimension and find the digit with highest\n",
    "        # probability.\n",
    "        output = interpreter.tensor(output_index)\n",
    "        digit = np.argmax(output()[0])\n",
    "        prediction_digits.append(digit)\n",
    "\n",
    "    print('\\n')\n",
    "    # Compare prediction results with ground truth labels to calculate accuracy.\n",
    "    prediction_digits = np.array(prediction_digits)\n",
    "    accuracy = (prediction_digits == test_labels).mean()\n",
    "    return accuracy\n"
   ]
  },
  {
   "cell_type": "code",
   "execution_count": 82,
   "metadata": {},
   "outputs": [
    {
     "name": "stdout",
     "output_type": "stream",
     "text": [
      "Evaluated on 0 results so far.\n",
      "Evaluated on 1000 results so far.\n",
      "Evaluated on 2000 results so far.\n",
      "Evaluated on 3000 results so far.\n",
      "Evaluated on 4000 results so far.\n",
      "Evaluated on 5000 results so far.\n",
      "Evaluated on 6000 results so far.\n",
      "Evaluated on 7000 results so far.\n",
      "Evaluated on 8000 results so far.\n",
      "Evaluated on 9000 results so far.\n",
      "\n",
      "\n",
      "Evaluated on 0 results so far.\n",
      "Evaluated on 1000 results so far.\n",
      "Evaluated on 2000 results so far.\n",
      "Evaluated on 3000 results so far.\n",
      "Evaluated on 4000 results so far.\n",
      "Evaluated on 5000 results so far.\n",
      "Evaluated on 6000 results so far.\n",
      "Evaluated on 7000 results so far.\n",
      "Evaluated on 8000 results so far.\n",
      "Evaluated on 9000 results so far.\n",
      "\n",
      "\n",
      "Float TFLite test_accuracy (without Quantization) \t : 0.8772\n",
      "QAT TFLite test_accuracy (with 8-bit Quantization) \t : 0.8442\n"
     ]
    }
   ],
   "source": [
    "quantized_tflite_model_accuracy = evaluate_model(quantized_tflite_model)\n",
    "float_tflite_model_accuracy = evaluate_model(float_tflite_model)\n",
    "\n",
    "\n",
    "print(f\"Float TFLite test_accuracy (without Quantization) \\t : {float_tflite_model_accuracy}\")\n",
    "print(f\"QAT TFLite test_accuracy (with 8-bit Quantization) \\t : {quantized_tflite_model_accuracy}\")\n"
   ]
  }
 ],
 "metadata": {
  "kernelspec": {
   "display_name": "Python 3.9.1 64-bit",
   "language": "python",
   "name": "python3"
  },
  "language_info": {
   "codemirror_mode": {
    "name": "ipython",
    "version": 3
   },
   "file_extension": ".py",
   "mimetype": "text/x-python",
   "name": "python",
   "nbconvert_exporter": "python",
   "pygments_lexer": "ipython3",
   "version": "3.9.1"
  },
  "orig_nbformat": 4,
  "vscode": {
   "interpreter": {
    "hash": "c3a0e1ed7a67280133f8ade5886c8db9f663bbe0c0db84aba701ac80290ec8d2"
   }
  }
 },
 "nbformat": 4,
 "nbformat_minor": 2
}
